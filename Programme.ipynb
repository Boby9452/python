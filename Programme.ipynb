{
  "nbformat": 4,
  "nbformat_minor": 0,
  "metadata": {
    "colab": {
      "provenance": []
    },
    "kernelspec": {
      "name": "python3",
      "display_name": "Python 3"
    },
    "language_info": {
      "name": "python"
    }
  },
  "cells": [
    {
      "cell_type": "markdown",
      "source": [
        "# Amicable Number"
      ],
      "metadata": {
        "id": "8_6oyioJwM8f"
      }
    },
    {
      "cell_type": "code",
      "execution_count": 1,
      "metadata": {
        "colab": {
          "base_uri": "https://localhost:8080/"
        },
        "id": "d2BLgQQelRWr",
        "outputId": "98909017-619a-41d1-d0ea-7396ded43d7c"
      },
      "outputs": [
        {
          "output_type": "stream",
          "name": "stdout",
          "text": [
            "enter the number220\n",
            "enter the number284\n",
            "amicable number\n"
          ]
        }
      ],
      "source": [
        "x=int(input(\"enter the number\"))\n",
        "y=int(input(\"enter the number\"))\n",
        "sum1=0\n",
        "sum2=0\n",
        "for i in range(1,x):\n",
        "  if x%i==0:\n",
        "    sum1+=i\n",
        "for j in range(1,y):\n",
        "  if y%j==0:\n",
        "    sum2+=j\n",
        "if(sum1==y and sum2==x):\n",
        "  print(\"amicable number\")\n",
        "else:\n",
        "  print(\"not a amicable number\")        "
      ]
    },
    {
      "cell_type": "markdown",
      "source": [
        "# Removing Duplicate from list"
      ],
      "metadata": {
        "id": "h0XfeCxQzT2l"
      }
    },
    {
      "cell_type": "code",
      "source": [
        "l1=[1,2,2,3,4,5,6,6,6,7,77,7,2,2,4,9,8,6]\n",
        "print(\"original list\",l1)\n",
        "print(*set(l1))"
      ],
      "metadata": {
        "colab": {
          "base_uri": "https://localhost:8080/"
        },
        "id": "IfecnaU0yavF",
        "outputId": "cc78a567-82ab-45d8-aad4-c029729b8f06"
      },
      "execution_count": 3,
      "outputs": [
        {
          "output_type": "stream",
          "name": "stdout",
          "text": [
            "original list [1, 2, 2, 3, 4, 5, 6, 6, 6, 7, 77, 7, 2, 2, 4, 9, 8, 6]\n",
            "1 2 3 4 5 6 7 8 9 77\n"
          ]
        }
      ]
    },
    {
      "cell_type": "markdown",
      "source": [
        "Programme"
      ],
      "metadata": {
        "id": "-2gK36pNR_43"
      }
    },
    {
      "cell_type": "code",
      "source": [
        "days=['monday','tuesday','wednesday','thursday','friday','saturday']\n",
        "print(type(days))\n",
        "for i in days:\n",
        "  print(i)"
      ],
      "metadata": {
        "colab": {
          "base_uri": "https://localhost:8080/"
        },
        "id": "4E6Jfi_R0T2g",
        "outputId": "b2d6b446-ed9f-4b56-87ce-b862a119e6ec"
      },
      "execution_count": 6,
      "outputs": [
        {
          "output_type": "stream",
          "name": "stdout",
          "text": [
            "<class 'list'>\n",
            "monday\n",
            "tuesday\n",
            "wednesday\n",
            "thursday\n",
            "friday\n",
            "saturday\n"
          ]
        }
      ]
    },
    {
      "cell_type": "code",
      "source": [
        "months=['jan','feb','march','april','may','june','july']\n",
        "x=['August']\n",
        "months.append(x)\n",
        "print(months)\n",
        "months.extend(x)\n",
        "print(months)\n",
        "months[2:5]\n",
        "months.pop()\n",
        "\n"
      ],
      "metadata": {
        "colab": {
          "base_uri": "https://localhost:8080/",
          "height": 72
        },
        "id": "AuHVldiDTFSP",
        "outputId": "734f07a8-6547-4abc-9db2-f9ef5f97506b"
      },
      "execution_count": 21,
      "outputs": [
        {
          "output_type": "stream",
          "name": "stdout",
          "text": [
            "['jan', 'feb', 'march', 'april', 'may', 'june', 'july', ['August']]\n",
            "['jan', 'feb', 'march', 'april', 'may', 'june', 'july', ['August'], 'August']\n"
          ]
        },
        {
          "output_type": "execute_result",
          "data": {
            "text/plain": [
              "'August'"
            ],
            "application/vnd.google.colaboratory.intrinsic+json": {
              "type": "string"
            }
          },
          "metadata": {},
          "execution_count": 21
        }
      ]
    },
    {
      "cell_type": "code",
      "source": [
        "n=int(input(\"enter the number\"))\n",
        "a=0\n",
        "b=1\n",
        "if(n<0):\n",
        "  print(\"incorrect input\")\n",
        "elif(n==0):\n",
        "  print(a)\n",
        "elif(n==1):\n",
        "  print(b) \n",
        "else:\n",
        "  for i in range(1,n):\n",
        "    c=a+b\n",
        "    a=b\n",
        "    b=c\n",
        "  print(b)   "
      ],
      "metadata": {
        "colab": {
          "base_uri": "https://localhost:8080/"
        },
        "id": "S8pCX9BhoOcO",
        "outputId": "7ed7b871-8014-44bb-b84b-71d358e80a9a"
      },
      "execution_count": 25,
      "outputs": [
        {
          "output_type": "stream",
          "name": "stdout",
          "text": [
            "enter the number9\n",
            "34\n"
          ]
        }
      ]
    },
    {
      "cell_type": "code",
      "source": [],
      "metadata": {
        "id": "cex74LzVsehX"
      },
      "execution_count": null,
      "outputs": []
    }
  ]
}