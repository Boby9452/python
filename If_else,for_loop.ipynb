{
  "cells": [
    {
      "cell_type": "code",
      "execution_count": null,
      "metadata": {
        "colab": {
          "base_uri": "https://localhost:8080/"
        },
        "id": "8ealZfhqljuz",
        "outputId": "6b5221c5-1f9e-4290-fda0-d4a429d4a05e"
      },
      "outputs": [
        {
          "name": "stdout",
          "output_type": "stream",
          "text": [
            "enter a number4\n",
            "enter a number6\n"
          ]
        }
      ],
      "source": [
        "x=int(input(\"enter a number\"))\n",
        "y=int(input(\"enter a number\"))\n",
        "if x>y:\n",
        "  print(\"x is greater\")\n",
        "else:\n",
        "  pass\n"
      ]
    },
    {
      "cell_type": "code",
      "execution_count": null,
      "metadata": {
        "colab": {
          "base_uri": "https://localhost:8080/"
        },
        "id": "2L42_Kksy6Y8",
        "outputId": "647f178e-d85b-4c10-d6bd-63c709371471"
      },
      "outputs": [
        {
          "name": "stdout",
          "output_type": "stream",
          "text": [
            "mango\n",
            "Apple\n",
            "Banana\n"
          ]
        }
      ],
      "source": [
        "fruits=[\"mango\",\"Apple\",\"Banana\",\"Pineapple\"]\n",
        "for i in fruits:\n",
        "  if i==\"Pineapple\":\n",
        "    break\n",
        "  print(i)  "
      ]
    },
    {
      "cell_type": "code",
      "execution_count": null,
      "metadata": {
        "colab": {
          "base_uri": "https://localhost:8080/"
        },
        "id": "Hlm68q3QzZce",
        "outputId": "2413bd8b-5d1f-4f6c-8bf0-30079ad4aa73"
      },
      "outputs": [
        {
          "name": "stdout",
          "output_type": "stream",
          "text": [
            "P\n",
            "a\n",
            "c\n",
            "i\n",
            "f\n",
            "i\n",
            "c\n",
            " \n"
          ]
        }
      ],
      "source": [
        "name=\"Pacific Ocean\"\n",
        "for i in name:\n",
        "   if i==\"O\":\n",
        "     break\n",
        "   print(i)  "
      ]
    },
    {
      "cell_type": "markdown",
      "metadata": {
        "id": "5fqbWwLP2zJd"
      },
      "source": [
        "Display all number from 1 to 10 except 3 and 7."
      ]
    },
    {
      "cell_type": "code",
      "execution_count": null,
      "metadata": {
        "colab": {
          "base_uri": "https://localhost:8080/"
        },
        "id": "YHJYMemO273q",
        "outputId": "3db6f50b-043b-432e-acf5-7d469e0711ff"
      },
      "outputs": [
        {
          "name": "stdout",
          "output_type": "stream",
          "text": [
            "1\n",
            "2\n",
            "4\n",
            "5\n",
            "6\n",
            "8\n",
            "9\n",
            "10\n"
          ]
        }
      ],
      "source": [
        "for i in range(1,11):\n",
        "  if i==3 or i==7:\n",
        "    continue\n",
        "  print(i)  \n"
      ]
    },
    {
      "cell_type": "markdown",
      "metadata": {
        "id": "3hTQQpSmU5ez"
      },
      "source": [
        "Take a list of numbers and append the squares of elements in another list"
      ]
    },
    {
      "cell_type": "code",
      "execution_count": null,
      "metadata": {
        "colab": {
          "base_uri": "https://localhost:8080/"
        },
        "id": "ut61hLh5RCza",
        "outputId": "9e425dfa-be6d-47e1-8611-7061b8417a5e"
      },
      "outputs": [
        {
          "name": "stdout",
          "output_type": "stream",
          "text": [
            "[4, 9, 16, 36, 64, 100]\n"
          ]
        }
      ],
      "source": [
        "l1=[2,3,4,6,8,10]\n",
        "l2=[]\n",
        "for i in l1:\n",
        " square =i*i\n",
        " l2.append(square)\n",
        "print(l2)\n",
        "\n",
        "  "
      ]
    },
    {
      "cell_type": "markdown",
      "metadata": {
        "id": "28EEUD2aYR3t"
      },
      "source": [
        "Take list of your choice and display square of all elements in list."
      ]
    },
    {
      "cell_type": "code",
      "execution_count": null,
      "metadata": {
        "colab": {
          "base_uri": "https://localhost:8080/"
        },
        "id": "5nHlkavOYhEB",
        "outputId": "ba2149f7-f24d-453f-e646-00fa9e8c4674"
      },
      "outputs": [
        {
          "name": "stdout",
          "output_type": "stream",
          "text": [
            "4\n",
            "9\n",
            "16\n",
            "25\n",
            "36\n"
          ]
        }
      ],
      "source": [
        "l1=[2,3,4,5,6]\n",
        "for i in l1:\n",
        "  print(i*i)"
      ]
    },
    {
      "cell_type": "markdown",
      "metadata": {
        "id": "0bga_T-AbTzc"
      },
      "source": [
        "Take a list of of your choice and print even elements from list.\n"
      ]
    },
    {
      "cell_type": "code",
      "execution_count": null,
      "metadata": {
        "colab": {
          "base_uri": "https://localhost:8080/"
        },
        "id": "a6zmHL4Db2ib",
        "outputId": "ffdabead-fbb9-492d-91cf-3dc2fab7173a"
      },
      "outputs": [
        {
          "name": "stdout",
          "output_type": "stream",
          "text": [
            "2\n",
            "4\n",
            "76\n",
            "6\n",
            "92\n",
            "90\n"
          ]
        }
      ],
      "source": [
        "l1=[2,4,3,76,89,5,6,87,57,37,47,45,92,91,90]\n",
        "for i in l1:\n",
        "  if i%2==0:\n",
        "    print(i)"
      ]
    },
    {
      "cell_type": "markdown",
      "metadata": {
        "id": "oH7kk4BEguzK"
      },
      "source": [
        "Tale a list of your choice and display count of even numbers."
      ]
    },
    {
      "cell_type": "code",
      "execution_count": null,
      "metadata": {
        "colab": {
          "base_uri": "https://localhost:8080/"
        },
        "id": "iDBtTo8enQv-",
        "outputId": "3f5806af-72dd-454b-c3f4-b3aadaf831fa"
      },
      "outputs": [
        {
          "name": "stdout",
          "output_type": "stream",
          "text": [
            "4\n"
          ]
        }
      ],
      "source": [
        "l2=[4,5,7,6,8,45,67,89,53,23,56]\n",
        "count=0\n",
        "for i in l2:\n",
        "  if i%2==0:\n",
        "    count=count+1\n",
        "print(count)\n",
        "  "
      ]
    },
    {
      "cell_type": "markdown",
      "metadata": {
        "id": "sjpSimedPN2L"
      },
      "source": [
        "Take list of your choice and count both of odd and even number."
      ]
    },
    {
      "cell_type": "code",
      "execution_count": null,
      "metadata": {
        "colab": {
          "base_uri": "https://localhost:8080/"
        },
        "id": "TsjUlxuQWUxw",
        "outputId": "e44ebd90-1a52-42eb-c8c9-bed7d48a144f"
      },
      "outputs": [
        {
          "name": "stdout",
          "output_type": "stream",
          "text": [
            "6\n",
            "3\n"
          ]
        }
      ],
      "source": [
        "l1=[2,4,5,7,8,1,2,56,98]\n",
        "count=0\n",
        "count1=0\n",
        "for i in l1:\n",
        "  if i%2==0:\n",
        "    count=count+1\n",
        "  else:\n",
        "   count1= count1+1\n",
        "print(count)\n",
        "print(count1) \n"
      ]
    },
    {
      "cell_type": "markdown",
      "metadata": {
        "id": "zTdYDBvmUfoL"
      },
      "source": []
    },
    {
      "cell_type": "code",
      "execution_count": null,
      "metadata": {
        "id": "v-WU792_UFxs"
      },
      "outputs": [],
      "source": [
        "Take a number as input and display multiplication table for that number. "
      ]
    },
    {
      "cell_type": "code",
      "execution_count": null,
      "metadata": {
        "colab": {
          "base_uri": "https://localhost:8080/"
        },
        "id": "m6lI2NkeUZTf",
        "outputId": "1d8f0459-0154-4ad9-9693-9a628f435037"
      },
      "outputs": [
        {
          "name": "stdout",
          "output_type": "stream",
          "text": [
            "enter the number3\n",
            "3\n",
            "6\n",
            "9\n",
            "12\n",
            "15\n",
            "18\n",
            "21\n",
            "24\n",
            "27\n",
            "30\n"
          ]
        }
      ],
      "source": [
        "n=int(input(\"enter the number\"))\n",
        "for i in range(1,11):\n",
        "  print(n*i)"
      ]
    },
    {
      "cell_type": "markdown",
      "metadata": {
        "id": "5NIJAqqgbo56"
      },
      "source": [
        "Calculate sum and average of all numbers from 1 to given number."
      ]
    },
    {
      "cell_type": "code",
      "execution_count": null,
      "metadata": {
        "colab": {
          "base_uri": "https://localhost:8080/"
        },
        "id": "nqNyRR0dcY7C",
        "outputId": "c77f7699-9337-4d84-84f8-7b36043af311"
      },
      "outputs": [
        {
          "name": "stdout",
          "output_type": "stream",
          "text": [
            "enter the number6\n",
            "sum of number is= 21\n",
            "average of number is= 3.5\n"
          ]
        }
      ],
      "source": [
        "n=int(input(\"enter the number\"))\n",
        "sum=0\n",
        "for i in range(1,n+1):\n",
        "  sum=sum+i\n",
        "print(\"sum of number is=\",sum)\n",
        "print(\"average of number is=\",(sum/n))  "
      ]
    },
    {
      "cell_type": "markdown",
      "metadata": {
        "id": "lwsIh1xpWVgV"
      },
      "source": [
        "Take a list of your choice and display one by one.\n"
      ]
    },
    {
      "cell_type": "code",
      "execution_count": null,
      "metadata": {
        "colab": {
          "base_uri": "https://localhost:8080/"
        },
        "id": "qinfoG19WgDv",
        "outputId": "6e095683-29e5-48d9-e978-10780134552b"
      },
      "outputs": [
        {
          "name": "stdout",
          "output_type": "stream",
          "text": [
            "2\n",
            "3\n",
            "vijay\n",
            "israel\n"
          ]
        }
      ],
      "source": [
        "l1=[2,3,\"vijay\",\"israel\",]\n",
        "for i in l1:\n",
        "  print(i)"
      ]
    },
    {
      "cell_type": "markdown",
      "metadata": {
        "id": "NQ1pXakrREKP"
      },
      "source": [
        "Take a number as input from the user and check whether it is positive or negative. In either case check whether number is even or odd."
      ]
    },
    {
      "cell_type": "code",
      "execution_count": null,
      "metadata": {
        "colab": {
          "base_uri": "https://localhost:8080/"
        },
        "id": "gsLVX-bZRl1K",
        "outputId": "a56acbbf-fa19-46bc-ba9d-6c29e0de77ca"
      },
      "outputs": [
        {
          "name": "stdout",
          "output_type": "stream",
          "text": [
            "enter the number:5\n",
            "Number is positive\n"
          ]
        }
      ],
      "source": [
        "num= int(input(\"enter the number:\"))\n",
        "\n",
        "if(num>=0):\n",
        "  if(num>0):\n",
        "    print(\"Number is positive\")\n",
        "  else:\n",
        "    print(\"num is zero\")\n",
        "else:\n",
        "  print(\"num is negative\")    \n"
      ]
    },
    {
      "cell_type": "code",
      "execution_count": null,
      "metadata": {
        "colab": {
          "base_uri": "https://localhost:8080/"
        },
        "id": "6Kfn6wkJrQwt",
        "outputId": "9034bddb-460b-4e82-dd7f-e1e9bbda02d7"
      },
      "outputs": [
        {
          "name": "stdout",
          "output_type": "stream",
          "text": [
            "pq\n"
          ]
        }
      ],
      "source": [
        "print('p' + 'q' if '12'.isdigit() else 'r' + 's')"
      ]
    },
    {
      "cell_type": "code",
      "execution_count": null,
      "metadata": {
        "colab": {
          "background_save": true
        },
        "id": "cs9eRUnJ9XwH"
      },
      "outputs": [],
      "source": [
        "n=input(\"enter the number\")\n",
        "a=n[::-1]\n",
        "if(a==n):\n",
        "  print(\"the number is palindrome\",' ', a)\n",
        "else:\n",
        "  print(\"the number is not palindrome\")  "
      ]
    },
    {
      "cell_type": "code",
      "execution_count": null,
      "metadata": {
        "id": "aW96Aw8m-bDg"
      },
      "outputs": [],
      "source": [
        "n=int(input(\"enter the number\"))\n",
        "\n",
        "  \n",
        "  "
      ]
    }
  ],
  "metadata": {
    "colab": {
      "provenance": []
    },
    "kernelspec": {
      "display_name": "Python 3",
      "name": "python3"
    },
    "language_info": {
      "name": "python"
    }
  },
  "nbformat": 4,
  "nbformat_minor": 0
}