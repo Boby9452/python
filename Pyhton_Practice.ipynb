{
  "nbformat": 4,
  "nbformat_minor": 0,
  "metadata": {
    "colab": {
      "provenance": []
    },
    "kernelspec": {
      "name": "python3",
      "display_name": "Python 3"
    },
    "language_info": {
      "name": "python"
    }
  },
  "cells": [
    {
      "cell_type": "code",
      "execution_count": 4,
      "metadata": {
        "colab": {
          "base_uri": "https://localhost:8080/"
        },
        "id": "KikhxmTr5p3M",
        "outputId": "e07bb2f4-cf6b-4aad-dadd-f827a0eb7e9e"
      },
      "outputs": [
        {
          "output_type": "stream",
          "name": "stdout",
          "text": [
            "enter the first side5\n",
            "enter the second side6\n",
            "enter the third side7\n",
            "14.696938456699069\n"
          ]
        }
      ],
      "source": [
        "a=float(input(\"enter the first side\"))\n",
        "b=float(input(\"enter the second side\"))\n",
        "c=float(input(\"enter the third side\"))\n",
        "s=(a+b+c)*0.5\n",
        "area=(s*(s-a)*(s-b)*(s-c))**0.5\n",
        "print(area)"
      ]
    },
    {
      "cell_type": "code",
      "source": [
        "x=int(input(\"enter the number\"))\n",
        "y=int(input(\"enter the number\"))\n",
        "x=x+y\n",
        "y=x-y\n",
        "x=x-y\n",
        "print(x)\n",
        "print(y)"
      ],
      "metadata": {
        "colab": {
          "base_uri": "https://localhost:8080/"
        },
        "id": "4vj-7lR18B8Z",
        "outputId": "1d67a14b-a113-4798-97cd-836c181dd04f"
      },
      "execution_count": 6,
      "outputs": [
        {
          "output_type": "stream",
          "name": "stdout",
          "text": [
            "enter the number4\n",
            "enter the number5\n",
            "5\n",
            "4\n"
          ]
        }
      ]
    },
    {
      "cell_type": "code",
      "source": [
        "\n",
        "miles=float(input(\"enter the distance in miles\"))\n",
        "km=miles*0.62137\n",
        "print(km)\n"
      ],
      "metadata": {
        "colab": {
          "base_uri": "https://localhost:8080/"
        },
        "id": "Yw0huaIl9f0Q",
        "outputId": "2d8419c5-2d89-415c-b427-704c9668ac71"
      },
      "execution_count": 9,
      "outputs": [
        {
          "output_type": "stream",
          "name": "stdout",
          "text": [
            "enter the distance in miles16\n",
            "9.94192\n"
          ]
        }
      ]
    },
    {
      "cell_type": "code",
      "source": [
        "c=float(input(\"enter the temperature in celsius\"))\n",
        "f=(c*1.8)+32\n",
        "print(f)"
      ],
      "metadata": {
        "colab": {
          "base_uri": "https://localhost:8080/"
        },
        "id": "BFQSeZLu_p5E",
        "outputId": "5cc582b6-4f68-4325-dfd9-d4ea4545bcd6"
      },
      "execution_count": 11,
      "outputs": [
        {
          "output_type": "stream",
          "name": "stdout",
          "text": [
            "enter the temperature in celsius34\n",
            "93.2\n"
          ]
        }
      ]
    },
    {
      "cell_type": "code",
      "source": [
        "import calendar\n",
        "yy=int(input(\"enter the year\"))\n",
        "mm=int(input(\"enter the month\"))\n",
        "print(calendar.month(yy,mm))"
      ],
      "metadata": {
        "colab": {
          "base_uri": "https://localhost:8080/"
        },
        "id": "2rmH5botAu0c",
        "outputId": "9cb5eaf1-dbde-47eb-88a4-42ccb2c9c37d"
      },
      "execution_count": 12,
      "outputs": [
        {
          "output_type": "stream",
          "name": "stdout",
          "text": [
            "enter the year2022\n",
            "enter the month11\n",
            "   November 2022\n",
            "Mo Tu We Th Fr Sa Su\n",
            "    1  2  3  4  5  6\n",
            " 7  8  9 10 11 12 13\n",
            "14 15 16 17 18 19 20\n",
            "21 22 23 24 25 26 27\n",
            "28 29 30\n",
            "\n"
          ]
        }
      ]
    },
    {
      "cell_type": "code",
      "source": [
        "X=[[1,2,3],\n",
        "   [4,5,6],\n",
        "   [7,8,9]]\n",
        "Y=[[10,11,12],\n",
        "   [13,14,15],\n",
        "   [16,17,18]]\n",
        "res=[[0,0,0],\n",
        "   [0,0,0],\n",
        "   [0,0,0]]      \n",
        "\n",
        "for i in range(len(X)):\n",
        "    for j in range(len(X[0])):\n",
        "     res[i][j]=X[i][j]+Y[i][j]  \n",
        "for r in res:\n",
        "  print(r) \n"
      ],
      "metadata": {
        "colab": {
          "base_uri": "https://localhost:8080/"
        },
        "id": "kQcDj5g5EJQz",
        "outputId": "a1396375-3698-4345-8408-a91486118cf9"
      },
      "execution_count": 20,
      "outputs": [
        {
          "output_type": "stream",
          "name": "stdout",
          "text": [
            "[11, 13, 15]\n",
            "[17, 19, 21]\n",
            "[23, 25, 27]\n"
          ]
        }
      ]
    },
    {
      "cell_type": "code",
      "source": [
        "A = [[5, 4, 3],  \n",
        "     [2, 4, 6],  \n",
        "     [4, 7, 9]]    \n",
        "B = [[3, 2, 4],  \n",
        "     [4, 3, 6],  \n",
        "     [2, 7, 5]]   \n",
        "res=[[0, 0, 0],    \n",
        "    [0, 0, 0],    \n",
        "    [0, 0, 0]]       "
      ],
      "metadata": {
        "id": "hdckWeXzF4mZ"
      },
      "execution_count": 2,
      "outputs": []
    },
    {
      "cell_type": "code",
      "source": [
        "for i in range(len(A)):\n",
        "  for j in range(len(B[0])):\n",
        "    for o in range(len(B)):\n",
        "      res[i][j]+=A[i][o]*B[o][j]\n",
        "for r in res:    \n",
        "   print(r)"
      ],
      "metadata": {
        "colab": {
          "base_uri": "https://localhost:8080/"
        },
        "id": "b2xlhIoT_6Rm",
        "outputId": "50aa4120-574b-4861-ab25-1dcdf99cbf13"
      },
      "execution_count": 4,
      "outputs": [
        {
          "output_type": "stream",
          "name": "stdout",
          "text": [
            "[37, 43, 59]\n",
            "[34, 58, 62]\n",
            "[58, 92, 103]\n"
          ]
        }
      ]
    }
  ]
}