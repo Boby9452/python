{
  "nbformat": 4,
  "nbformat_minor": 0,
  "metadata": {
    "colab": {
      "provenance": []
    },
    "kernelspec": {
      "name": "python3",
      "display_name": "Python 3"
    },
    "language_info": {
      "name": "python"
    }
  },
  "cells": [
    {
      "cell_type": "code",
      "execution_count": null,
      "metadata": {
        "id": "uHfAUIIWBhZF"
      },
      "outputs": [],
      "source": [
        "A = [[5, 4, 3],  \n",
        "         [2, 4, 6],  \n",
        "         [4, 7, 9],  \n",
        "         [8, 1, 3]]  \n",
        "res=[[0, 0, 0, 0],    \n",
        "    [0, 0, 0, 0],  \n",
        "    [0, 0, 0, 0]]          "
      ]
    },
    {
      "cell_type": "code",
      "source": [
        "for i in range(len(A)):\n",
        "  for j in range(len(A[0])):\n",
        "     res[j][i]=A[i][j]\n",
        "for r in res:\n",
        "   print(r)    "
      ],
      "metadata": {
        "colab": {
          "base_uri": "https://localhost:8080/"
        },
        "id": "0ovG2sRRDKKn",
        "outputId": "1339ef98-a3fb-412a-a33a-266aeddd8c07"
      },
      "execution_count": null,
      "outputs": [
        {
          "output_type": "stream",
          "name": "stdout",
          "text": [
            "[5, 2, 4, 8]\n",
            "[4, 4, 7, 1]\n",
            "[3, 6, 9, 3]\n"
          ]
        }
      ]
    },
    {
      "cell_type": "code",
      "source": [
        "n=input(\"enter the string\")\n",
        "z=n.split()\n",
        "z.sort()\n",
        "for i in z:\n",
        "  print(i)"
      ],
      "metadata": {
        "colab": {
          "base_uri": "https://localhost:8080/"
        },
        "id": "-idf1hDtGrkw",
        "outputId": "c45fb194-e693-4d22-c821-b846771ace14"
      },
      "execution_count": null,
      "outputs": [
        {
          "output_type": "stream",
          "name": "stdout",
          "text": [
            "enter the stringmy name is vijay\n",
            "is\n",
            "my\n",
            "name\n",
            "vijay\n"
          ]
        }
      ]
    },
    {
      "cell_type": "code",
      "source": [
        "n=int(input(\"enter the number\"))\n",
        "if(n>0):\n",
        "  print(\"positive number\")\n",
        "elif(n<0):\n",
        "  print(\"negative number\")\n",
        "else:\n",
        "  print(\"Zero\")    "
      ],
      "metadata": {
        "colab": {
          "base_uri": "https://localhost:8080/"
        },
        "id": "5VmNdQBlQSoC",
        "outputId": "e8b3f47f-a2a4-4094-f518-1582e21e0906"
      },
      "execution_count": null,
      "outputs": [
        {
          "output_type": "stream",
          "name": "stdout",
          "text": [
            "enter the number0\n",
            "Zero\n"
          ]
        }
      ]
    },
    {
      "cell_type": "code",
      "source": [
        "n=int(input(\"enter thr year\"))\n",
        "if((n%4==0 )or(n%400==0) and (n%100!=0)):\n",
        "  print(\"leap year\")\n",
        "else:\n",
        "  print(\"not a leap year\")  \n"
      ],
      "metadata": {
        "colab": {
          "base_uri": "https://localhost:8080/"
        },
        "id": "FXkbvhmrSIa5",
        "outputId": "63f3876d-657a-4546-e17e-12e4bb9e23a5"
      },
      "execution_count": null,
      "outputs": [
        {
          "output_type": "stream",
          "name": "stdout",
          "text": [
            "enter thr year2003\n",
            "not a leap year\n"
          ]
        }
      ]
    },
    {
      "cell_type": "code",
      "source": [
        "def factorial(n):\n",
        "  if(n<0):\n",
        "    print(\"factorial does  not exist\")\n",
        "  elif(n==0 or n==1):\n",
        "    print(\"factorial is 1\")\n",
        "  else:\n",
        "    fact=1\n",
        "    while(n>1):\n",
        "      fact=fact*n\n",
        "      n=n-1\n",
        "  print(fact)   \n",
        "factorial(5)   "
      ],
      "metadata": {
        "colab": {
          "base_uri": "https://localhost:8080/"
        },
        "id": "022REApA9VIC",
        "outputId": "e26e499b-ec3c-40db-cc2c-d3382dd9a7c3"
      },
      "execution_count": 6,
      "outputs": [
        {
          "output_type": "stream",
          "name": "stdout",
          "text": [
            "120\n"
          ]
        }
      ]
    },
    {
      "cell_type": "code",
      "source": [
        "lowest_value=int(input(\"enter the lowest range value\"))\n",
        "upper_value=int(input(\"enter the upper range value\"))\n",
        "for n in range(lowest_value,upper_value+1):\n",
        "  if(n>1):\n",
        "    for i in range(2,n):\n",
        "      if(n%i==0):\n",
        "        break\n",
        "    else:   \n",
        "       print(n)    "
      ],
      "metadata": {
        "colab": {
          "base_uri": "https://localhost:8080/"
        },
        "id": "2aTtUfdj-9RG",
        "outputId": "548943d2-8bd9-4db1-bc37-418b735d1d29"
      },
      "execution_count": 11,
      "outputs": [
        {
          "output_type": "stream",
          "name": "stdout",
          "text": [
            "enter the lowest range value14\n",
            "enter the upper range value97\n",
            "17\n",
            "19\n",
            "23\n",
            "29\n",
            "31\n",
            "37\n",
            "41\n",
            "43\n",
            "47\n",
            "53\n",
            "59\n",
            "61\n",
            "67\n",
            "71\n",
            "73\n",
            "79\n",
            "83\n",
            "89\n",
            "97\n"
          ]
        }
      ]
    },
    {
      "cell_type": "code",
      "source": [
        "n=int(input(\"enter the number\"))\n",
        "for i in range(2,11):\n",
        "  print(n,\"*\",i,\"=\",n*i)"
      ],
      "metadata": {
        "colab": {
          "base_uri": "https://localhost:8080/"
        },
        "id": "6ycw1Ck6BmnB",
        "outputId": "38edf204-1c66-4643-dcaf-0205365fc084"
      },
      "execution_count": 13,
      "outputs": [
        {
          "output_type": "stream",
          "name": "stdout",
          "text": [
            "enter the number2\n",
            "2 * 2 = 4\n",
            "2 * 3 = 6\n",
            "2 * 4 = 8\n",
            "2 * 5 = 10\n",
            "2 * 6 = 12\n",
            "2 * 7 = 14\n",
            "2 * 8 = 16\n",
            "2 * 9 = 18\n",
            "2 * 10 = 20\n"
          ]
        }
      ]
    }
  ]
}