{
  "nbformat": 4,
  "nbformat_minor": 0,
  "metadata": {
    "colab": {
      "provenance": []
    },
    "kernelspec": {
      "name": "python3",
      "display_name": "Python 3"
    },
    "language_info": {
      "name": "python"
    }
  },
  "cells": [
    {
      "cell_type": "code",
      "source": [
        "age=int(input(\"Enter the age\"))\n",
        "if age>=18:\n",
        "  print(\"Cndidate is eligible\")\n",
        "else:\n",
        "  print(\"Not elegible\")  "
      ],
      "metadata": {
        "colab": {
          "base_uri": "https://localhost:8080/"
        },
        "id": "RYxwUKtTSIip",
        "outputId": "a1b04cf3-270c-453e-ae1c-9c360d6b6c72"
      },
      "execution_count": null,
      "outputs": [
        {
          "output_type": "stream",
          "name": "stdout",
          "text": [
            "Enter the age45\n",
            "Cndidate is eligible\n"
          ]
        }
      ]
    },
    {
      "cell_type": "code",
      "source": [
        "array=[(2,2),(3,3)]\n",
        "type(array)"
      ],
      "metadata": {
        "colab": {
          "base_uri": "https://localhost:8080/"
        },
        "id": "oL3F5tdW3CIE",
        "outputId": "789f823a-6e6c-47c3-8b66-e341e1ff481d"
      },
      "execution_count": null,
      "outputs": [
        {
          "output_type": "execute_result",
          "data": {
            "text/plain": [
              "list"
            ]
          },
          "metadata": {},
          "execution_count": 2
        }
      ]
    },
    {
      "cell_type": "code",
      "source": [
        "list=[]\n",
        "type(list )"
      ],
      "metadata": {
        "colab": {
          "base_uri": "https://localhost:8080/"
        },
        "id": "eh_mZGJ14ztG",
        "outputId": "208dff31-d406-481e-c41b-2b6211a7255b"
      },
      "execution_count": null,
      "outputs": [
        {
          "output_type": "execute_result",
          "data": {
            "text/plain": [
              "list"
            ]
          },
          "metadata": {},
          "execution_count": 4
        }
      ]
    },
    {
      "cell_type": "code",
      "source": [
        "x=\"66\"\n",
        "y=x+str(9)\n",
        "print(y)"
      ],
      "metadata": {
        "colab": {
          "base_uri": "https://localhost:8080/"
        },
        "id": "Y1ECIsn0fLp1",
        "outputId": "c0004f28-f1a4-4506-ddf2-e4153fe23eeb"
      },
      "execution_count": null,
      "outputs": [
        {
          "output_type": "stream",
          "name": "stdout",
          "text": [
            "669\n"
          ]
        }
      ]
    },
    {
      "cell_type": "code",
      "source": [
        "x=~4\n",
        "print(x)"
      ],
      "metadata": {
        "colab": {
          "base_uri": "https://localhost:8080/"
        },
        "id": "Mb51nPcDhy9E",
        "outputId": "b0170df6-c2c7-467d-8120-4b44488f86a5"
      },
      "execution_count": null,
      "outputs": [
        {
          "output_type": "stream",
          "name": "stdout",
          "text": [
            "-5\n"
          ]
        }
      ]
    },
    {
      "cell_type": "code",
      "source": [
        "k=complex(2,3)\n",
        "print(k)"
      ],
      "metadata": {
        "colab": {
          "base_uri": "https://localhost:8080/"
        },
        "id": "GonL-mNHjvjk",
        "outputId": "18595f9d-bfeb-44c5-9fe9-e0e8769db46e"
      },
      "execution_count": null,
      "outputs": [
        {
          "output_type": "stream",
          "name": "stdout",
          "text": [
            "(2+3j)\n"
          ]
        }
      ]
    },
    {
      "cell_type": "code",
      "source": [
        "k=2+3J\n",
        "type(k)"
      ],
      "metadata": {
        "colab": {
          "base_uri": "https://localhost:8080/"
        },
        "id": "KOY3MIhnj3SG",
        "outputId": "d1626c06-a9d1-46a2-cf3f-fbbfca56b777"
      },
      "execution_count": null,
      "outputs": [
        {
          "output_type": "execute_result",
          "data": {
            "text/plain": [
              "complex"
            ]
          },
          "metadata": {},
          "execution_count": 11
        }
      ]
    },
    {
      "cell_type": "code",
      "source": [
        "array=[(2,2),(3,3)]\n",
        "type(array)"
      ],
      "metadata": {
        "colab": {
          "base_uri": "https://localhost:8080/"
        },
        "id": "S0w0aQmynidW",
        "outputId": "8bc910ff-31a4-4db9-aed8-50f409938133"
      },
      "execution_count": null,
      "outputs": [
        {
          "output_type": "execute_result",
          "data": {
            "text/plain": [
              "list"
            ]
          },
          "metadata": {},
          "execution_count": 13
        }
      ]
    },
    {
      "cell_type": "code",
      "source": [
        "import calendar\n",
        "yy=2022\n",
        "mm=12\n",
        "print(calendar.month(yy,mm))"
      ],
      "metadata": {
        "colab": {
          "base_uri": "https://localhost:8080/"
        },
        "id": "xSLXqV4tuf7N",
        "outputId": "b5cb806e-1eb0-4ffe-9766-5711444e2456"
      },
      "execution_count": null,
      "outputs": [
        {
          "output_type": "stream",
          "name": "stdout",
          "text": [
            "   December 2022\n",
            "Mo Tu We Th Fr Sa Su\n",
            "          1  2  3  4\n",
            " 5  6  7  8  9 10 11\n",
            "12 13 14 15 16 17 18\n",
            "19 20 21 22 23 24 25\n",
            "26 27 28 29 30 31\n",
            "\n"
          ]
        }
      ]
    },
    {
      "cell_type": "code",
      "source": [
        "x=0\n",
        "y=9\n",
        "z=x+y\n",
        "print(z)"
      ],
      "metadata": {
        "colab": {
          "base_uri": "https://localhost:8080/"
        },
        "id": "KxaC18acviGl",
        "outputId": "60cbc299-d649-47b0-d749-e5414ebcdf51"
      },
      "execution_count": null,
      "outputs": [
        {
          "output_type": "stream",
          "name": "stdout",
          "text": [
            "9\n"
          ]
        }
      ]
    },
    {
      "cell_type": "code",
      "source": [
        "var1=10/3\n",
        "round(var1,2)"
      ],
      "metadata": {
        "colab": {
          "base_uri": "https://localhost:8080/"
        },
        "id": "b81ZWnmVxobt",
        "outputId": "7586ed13-4460-4def-dc91-d842ef7b93e1"
      },
      "execution_count": null,
      "outputs": [
        {
          "output_type": "execute_result",
          "data": {
            "text/plain": [
              "3.33"
            ]
          },
          "metadata": {},
          "execution_count": 19
        }
      ]
    },
    {
      "cell_type": "code",
      "source": [
        "a=542%16\n",
        "print(a)"
      ],
      "metadata": {
        "colab": {
          "base_uri": "https://localhost:8080/"
        },
        "id": "qijpbQoNzCXI",
        "outputId": "395cee16-39f6-40f9-c28c-3d700d79d228"
      },
      "execution_count": null,
      "outputs": [
        {
          "output_type": "stream",
          "name": "stdout",
          "text": [
            "14\n"
          ]
        }
      ]
    },
    {
      "cell_type": "code",
      "source": [
        "a=20\n",
        "b=3\n",
        "c=20/3\n",
        "print(c)\n",
        "d=20%3\n",
        "print(d)\n"
      ],
      "metadata": {
        "colab": {
          "base_uri": "https://localhost:8080/"
        },
        "id": "WfDUNVVq0ZR0",
        "outputId": "1fc8f282-159f-4555-ee0b-c0dc7c233e1f"
      },
      "execution_count": null,
      "outputs": [
        {
          "output_type": "stream",
          "name": "stdout",
          "text": [
            "6.666666666666667\n",
            "2\n"
          ]
        }
      ]
    },
    {
      "cell_type": "code",
      "source": [
        "a=3**5\n",
        "print(a)"
      ],
      "metadata": {
        "colab": {
          "base_uri": "https://localhost:8080/"
        },
        "id": "Gnl8MZFI1wYi",
        "outputId": "7d897a72-b1b1-4a43-b7ba-968662c2ddf6"
      },
      "execution_count": null,
      "outputs": [
        {
          "output_type": "stream",
          "name": "stdout",
          "text": [
            "243\n"
          ]
        }
      ]
    },
    {
      "cell_type": "code",
      "source": [
        "a+=1"
      ],
      "metadata": {
        "id": "em--mQjTkkow"
      },
      "execution_count": null,
      "outputs": []
    },
    {
      "cell_type": "code",
      "source": [
        "x=[44,55,78]\n",
        "x=tuple(x)\n",
        "x[0]=999\n",
        "print(x)"
      ],
      "metadata": {
        "colab": {
          "base_uri": "https://localhost:8080/",
          "height": 217
        },
        "id": "JJr_w9fymcTg",
        "outputId": "462e97cd-1ad9-49d7-ba42-cd0bc118fe03"
      },
      "execution_count": null,
      "outputs": [
        {
          "output_type": "error",
          "ename": "TypeError",
          "evalue": "ignored",
          "traceback": [
            "\u001b[0;31m---------------------------------------------------------------------------\u001b[0m",
            "\u001b[0;31mTypeError\u001b[0m                                 Traceback (most recent call last)",
            "\u001b[0;32m<ipython-input-12-1bc87aada025>\u001b[0m in \u001b[0;36m<module>\u001b[0;34m\u001b[0m\n\u001b[1;32m      1\u001b[0m \u001b[0mx\u001b[0m\u001b[0;34m=\u001b[0m\u001b[0;34m[\u001b[0m\u001b[0;36m44\u001b[0m\u001b[0;34m,\u001b[0m\u001b[0;36m55\u001b[0m\u001b[0;34m,\u001b[0m\u001b[0;36m78\u001b[0m\u001b[0;34m]\u001b[0m\u001b[0;34m\u001b[0m\u001b[0;34m\u001b[0m\u001b[0m\n\u001b[1;32m      2\u001b[0m \u001b[0mx\u001b[0m\u001b[0;34m=\u001b[0m\u001b[0mtuple\u001b[0m\u001b[0;34m(\u001b[0m\u001b[0mx\u001b[0m\u001b[0;34m)\u001b[0m\u001b[0;34m\u001b[0m\u001b[0;34m\u001b[0m\u001b[0m\n\u001b[0;32m----> 3\u001b[0;31m \u001b[0mx\u001b[0m\u001b[0;34m[\u001b[0m\u001b[0;36m0\u001b[0m\u001b[0;34m]\u001b[0m\u001b[0;34m=\u001b[0m\u001b[0;36m999\u001b[0m\u001b[0;34m\u001b[0m\u001b[0;34m\u001b[0m\u001b[0m\n\u001b[0m\u001b[1;32m      4\u001b[0m \u001b[0mprint\u001b[0m\u001b[0;34m(\u001b[0m\u001b[0mx\u001b[0m\u001b[0;34m)\u001b[0m\u001b[0;34m\u001b[0m\u001b[0;34m\u001b[0m\u001b[0m\n",
            "\u001b[0;31mTypeError\u001b[0m: 'tuple' object does not support item assignment"
          ]
        }
      ]
    },
    {
      "cell_type": "code",
      "source": [],
      "metadata": {
        "id": "OZB9mzfmmctt"
      },
      "execution_count": null,
      "outputs": []
    },
    {
      "cell_type": "code",
      "source": [
        "a,b,c = 6000,80000,9999"
      ],
      "metadata": {
        "id": "nAnc1FuhjECl"
      },
      "execution_count": null,
      "outputs": []
    },
    {
      "cell_type": "markdown",
      "source": [
        "take lenghth and breadth from user as input and check if the rectangle is a square or not"
      ],
      "metadata": {
        "id": "Ir2I57_dTftU"
      }
    },
    {
      "cell_type": "code",
      "source": [
        "length=float(input(\"enter the length\"))\n",
        "breadth=float(input(\"enter the breadth\"))\n",
        "if(length==breadth):\n",
        "  print(\"It is a square\")\n",
        "else:\n",
        "  print(\"It is not a square\")  "
      ],
      "metadata": {
        "colab": {
          "base_uri": "https://localhost:8080/"
        },
        "id": "tJCCkWqdQtjx",
        "outputId": "4d94e3f7-0dd2-4871-e005-e1a797a30e92"
      },
      "execution_count": null,
      "outputs": [
        {
          "output_type": "stream",
          "name": "stdout",
          "text": [
            "enter the length3\n",
            "enter the breadth3\n",
            "It is a square\n"
          ]
        }
      ]
    },
    {
      "cell_type": "markdown",
      "source": [
        "In a fare the entry fee is 0 rupee for children less than 4 years of age. Entry fee is 100 rupees If the age is between 4-18 years and if the age is more than 18 years, the entry fee is 175 rupee.\n",
        "  take age as input from user and display ticket prices.  "
      ],
      "metadata": {
        "id": "SQOkIwXNWQ3m"
      }
    },
    {
      "cell_type": "code",
      "source": [
        "age=int(input(\"Enter the age \"))\n",
        "if(age<4):\n",
        "  print(\"The entry fee is 0 Rupees\")\n",
        "elif(4<age<=18):\n",
        "  print(\"The entry fee is 100 rupees\")\n",
        "elif(age>18):\n",
        "  print(\"The entry fee is 175 rupees\")  "
      ],
      "metadata": {
        "colab": {
          "base_uri": "https://localhost:8080/"
        },
        "id": "cbzqkqjoXC-J",
        "outputId": "eeabdb17-2732-42c4-a424-c2820186d746"
      },
      "execution_count": null,
      "outputs": [
        {
          "output_type": "stream",
          "name": "stdout",
          "text": [
            "Enter the age 46\n",
            "The entry fee is 175 rupees\n"
          ]
        }
      ]
    },
    {
      "cell_type": "markdown",
      "source": [
        "take a Number from user and check whether it is perfectly divisible by 2,3 and 7 or not.\n"
      ],
      "metadata": {
        "id": "PfRAC4_XamAB"
      }
    },
    {
      "cell_type": "code",
      "source": [
        "n=float(input(\"enter the number\"))\n",
        "if(n%2==0):\n",
        "  print(\"Number is perfectly divisible by 2\")\n",
        "else:\n",
        "  print(\"Number is not perfectly divisible by 2\")\n",
        "if(n%3==0):\n",
        "  print(\"Number is perfectly divisible by 3\")\n",
        "else:\n",
        "  print(\"Number is not perfectly divisible by 3\")\n",
        "if(n%7==0):\n",
        "  print(\"Number is perfectly divisible by 7\")\n",
        "else:\n",
        "  print(\"Number is not perfectly divisible by 7\")        "
      ],
      "metadata": {
        "colab": {
          "base_uri": "https://localhost:8080/"
        },
        "id": "6-tqTNS_a0a_",
        "outputId": "e5a8238d-642a-422f-c1aa-6f2fa722879e"
      },
      "execution_count": null,
      "outputs": [
        {
          "output_type": "stream",
          "name": "stdout",
          "text": [
            "enter the number10\n",
            "Number is perfectly divisible by 2\n",
            "Number is not perfectly divisible by 3\n",
            "Number is not perfectly divisible by 7\n"
          ]
        }
      ]
    },
    {
      "cell_type": "markdown",
      "source": [
        "check the number is even or not"
      ],
      "metadata": {
        "id": "38P1-leVhBFc"
      }
    },
    {
      "cell_type": "code",
      "source": [
        "num=float(input(\"Enter the number\"))\n",
        "if(num%2==0):\n",
        "  print(\"Number is even\")\n",
        "else:\n",
        "  print(\"Number is Odd\")  "
      ],
      "metadata": {
        "colab": {
          "base_uri": "https://localhost:8080/"
        },
        "id": "dRIrhNZ3hFXj",
        "outputId": "574303e1-9780-4a27-dccf-b5f09c29ce42"
      },
      "execution_count": null,
      "outputs": [
        {
          "output_type": "stream",
          "name": "stdout",
          "text": [
            "Enter the number56\n",
            "Number is even\n"
          ]
        }
      ]
    },
    {
      "cell_type": "markdown",
      "source": [
        "The owner of a company decides to give bonus of 5% to employees who have been working in the company for 5 years or more.\n",
        " \n",
        " Take current salary and years of experience with the current company as input and print incremented salary.\n"
      ],
      "metadata": {
        "id": "2_e4LAWm7mjb"
      }
    },
    {
      "cell_type": "code",
      "source": [
        "current_salary=int(input(\"Enter the salary of the employee\"))\n",
        "year_of_experience=int(input(\"Enter your year of experience\"))\n",
        "if(year_of_experience>=5):\n",
        "  current_salary=(current_salary)+(0.05*(current_salary))\n",
        "  print(\"increment in your salary\",current_salary)\n",
        "else:\n",
        "  print(\"no increment in salary\")  \n"
      ],
      "metadata": {
        "colab": {
          "base_uri": "https://localhost:8080/"
        },
        "id": "pIQ-HRrE-HyE",
        "outputId": "64e8262c-26f4-4e72-a406-72a8da1d8d93"
      },
      "execution_count": null,
      "outputs": [
        {
          "output_type": "stream",
          "name": "stdout",
          "text": [
            "Enter the salary of the employee6\n",
            "Enter your year of experience7\n",
            "increment in your salary 6.3\n"
          ]
        }
      ]
    },
    {
      "cell_type": "markdown",
      "source": [
        "A Grocery store allows 20% discount on items purchased worth more than 2000 rupees considering price of each commodity-200 rupees.Calculate  the discounted price to be paid at he end."
      ],
      "metadata": {
        "id": "TZXtZ_plNlSP"
      }
    },
    {
      "cell_type": "code",
      "source": [
        "items=int(input(\"Enter the no of items to be purchased\"))\n",
        "price=200\n",
        "price=price*items\n",
        "if(price>=2000):\n",
        " print(\"discount at the end\",price-0.2*items )\n",
        "else:\n",
        " print(\"No discount\",price)"
      ],
      "metadata": {
        "colab": {
          "base_uri": "https://localhost:8080/"
        },
        "id": "SdsIp2bdPFkQ",
        "outputId": "1aa43e3c-a684-4a0f-b5f3-8db4e3f18744"
      },
      "execution_count": null,
      "outputs": [
        {
          "output_type": "stream",
          "name": "stdout",
          "text": [
            "Enter the no of items to be purchased12\n",
            "discount at the end 2397.6\n"
          ]
        }
      ]
    }
  ]
}