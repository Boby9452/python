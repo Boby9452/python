{
  "nbformat": 4,
  "nbformat_minor": 0,
  "metadata": {
    "colab": {
      "provenance": []
    },
    "kernelspec": {
      "name": "python3",
      "display_name": "Python 3"
    },
    "language_info": {
      "name": "python"
    }
  },
  "cells": [
    {
      "cell_type": "markdown",
      "source": [],
      "metadata": {
        "id": "YUHz3QNqxbB0"
      }
    },
    {
      "cell_type": "markdown",
      "source": [
        "1.Write a program which accepts month's name as input and display the number of days in tne month as output. "
      ],
      "metadata": {
        "id": "hPY-No4Zxcwa"
      }
    },
    {
      "cell_type": "code",
      "source": [
        "month=int(input(\"enter the month\"))\n",
        "year=int(input(\"enter the year\"))\n",
        "if(month==1 or month==3 or month==5 or month==7 or month==8 or month==10 or month==12):\n",
        "  print(\"'No of days is 31\")\n",
        "\n",
        "elif((month==2) and ((year%400==0) or (year%4==0 and year%100!=0))):\n",
        "  print(\"No of days is 29\")\n",
        "elif(month==2):\n",
        "  print(\"no of days is 28\")  \n",
        "else:\n",
        "  print(\"no of days is 30\")    "
      ],
      "metadata": {
        "colab": {
          "base_uri": "https://localhost:8080/"
        },
        "id": "YHDnYl8g3y4i",
        "outputId": "bc454895-cd1d-4d4c-9ac6-c95f62ee1121"
      },
      "execution_count": null,
      "outputs": [
        {
          "output_type": "stream",
          "name": "stdout",
          "text": [
            "enter the month2\n",
            "enter the year1996\n",
            "No of days is 29\n"
          ]
        }
      ]
    },
    {
      "cell_type": "markdown",
      "source": [
        "2.Take any word as input from the user and count number of vowels in the word."
      ],
      "metadata": {
        "id": "4mo5X5E7kLer"
      }
    },
    {
      "cell_type": "code",
      "source": [
        "word=input(\"Enter the word\")\n",
        "vowel=0\n",
        "for i in word:\n",
        " if i in ('a','A','i','I','e','E','o','O','u','U'):\n",
        "  vowel=vowel+1\n",
        "\n",
        "print(\"no of vowels=\",vowel)  "
      ],
      "metadata": {
        "colab": {
          "base_uri": "https://localhost:8080/"
        },
        "id": "1E9iCVF9kwwZ",
        "outputId": "55102472-b583-415f-cb77-ceea5b9981c6"
      },
      "execution_count": null,
      "outputs": [
        {
          "output_type": "stream",
          "name": "stdout",
          "text": [
            "Enter the wordindia\n",
            "no of vowels= 3\n"
          ]
        }
      ]
    },
    {
      "cell_type": "markdown",
      "source": [
        "3.Write a programme to separate even and odd numbers in two distinct lists from a list of numbers of your choice."
      ],
      "metadata": {
        "id": "BGHJ0Wr7n7Iv"
      }
    },
    {
      "cell_type": "code",
      "source": [
        "l1=[2,6,7,23,46,78,5,9,1,11,10,20]\n",
        "l2=[]\n",
        "for i in l1:\n",
        "  if i%2==0:\n",
        "    l2.append(i)\n",
        "  else:\n",
        "   print(l2)\n"
      ],
      "metadata": {
        "colab": {
          "base_uri": "https://localhost:8080/"
        },
        "id": "wLR65DkRopfL",
        "outputId": "7f20c145-ae72-4425-a74f-0f83de13687e"
      },
      "execution_count": null,
      "outputs": [
        {
          "output_type": "stream",
          "name": "stdout",
          "text": [
            "[2, 6, 7, 23, 46, 78, 5, 9, 1, 11, 10, 20]\n",
            "[2, 6, 7, 23, 46, 78, 5, 9, 1, 11, 10, 20]\n",
            "[2, 6, 7, 23, 46, 78, 5, 9, 1, 11, 10, 20]\n",
            "[2, 6, 7, 23, 46, 78, 5, 9, 1, 11, 10, 20]\n",
            "[2, 6, 7, 23, 46, 78, 5, 9, 1, 11, 10, 20]\n",
            "[2, 6, 7, 23, 46, 78, 5, 9, 1, 11, 10, 20]\n"
          ]
        }
      ]
    },
    {
      "cell_type": "markdown",
      "source": [
        "4.Write a programme to append datatype of elements from a list to the separate list."
      ],
      "metadata": {
        "id": "iRGxZIKjqNW2"
      }
    },
    {
      "cell_type": "code",
      "source": [
        "l1=[\"USA\",\"RUSSIA\",78,4.56]\n",
        "l2=[]\n",
        "for i in l1:\n",
        "  l2.append(type(i))\n",
        "print(l2)  "
      ],
      "metadata": {
        "colab": {
          "base_uri": "https://localhost:8080/"
        },
        "id": "xrxmEzvKqcK4",
        "outputId": "aed7a27a-59ee-4c2c-eb36-7b72fe46fb51"
      },
      "execution_count": null,
      "outputs": [
        {
          "output_type": "stream",
          "name": "stdout",
          "text": [
            "[<class 'str'>, <class 'str'>, <class 'int'>, <class 'float'>]\n"
          ]
        }
      ]
    },
    {
      "cell_type": "markdown",
      "source": [
        "5. Take a number as input from the user and find it's factorial."
      ],
      "metadata": {
        "id": "LUSgLxpkcsx_"
      }
    },
    {
      "cell_type": "code",
      "source": [
        "num=int(input(\"Enter the number\"))\n",
        "fact=1\n",
        "if num<0:\n",
        "  print(\"factorial of a number doe not exist\")\n",
        "elif num==0:\n",
        "  print(\"Factorial of 0 is 1\")\n",
        "else:\n",
        "  for i in range (1,num+1):\n",
        "    fact=fact*i\n",
        "  print(fact)    "
      ],
      "metadata": {
        "colab": {
          "base_uri": "https://localhost:8080/"
        },
        "id": "nH-NC5Vkdyo5",
        "outputId": "fb0f8619-64c7-4adf-b546-35c44d92370c"
      },
      "execution_count": null,
      "outputs": [
        {
          "output_type": "stream",
          "name": "stdout",
          "text": [
            "Enter the number5\n",
            "120\n"
          ]
        }
      ]
    },
    {
      "cell_type": "markdown",
      "source": [
        "6.Write a program to display only those numbers from a list that satisfies the following conditions:\n",
        "\n",
        "1. The number must be divisible by 7\n",
        "\n",
        "2. If the number is greater than 140 then skip it and move to the next number in the list\n",
        "\n",
        "3. If the number in the list is greater than 630 then stop the loop"
      ],
      "metadata": {
        "id": "db_vcNjbhH9m"
      }
    },
    {
      "cell_type": "code",
      "source": [
        "l1=[2,4,7,21,49,70,140,170,200,700]\n",
        "for i in l1:\n",
        " if i>630:\n",
        "  break\n",
        " elif i>=140:\n",
        "  continue\n",
        " elif i%7==0:\n",
        "  print(i)\n",
        "      "
      ],
      "metadata": {
        "colab": {
          "base_uri": "https://localhost:8080/"
        },
        "id": "ls3am3HDhW64",
        "outputId": "af72ce15-0485-4b32-b16d-0fde9e868d7e"
      },
      "execution_count": null,
      "outputs": [
        {
          "output_type": "stream",
          "name": "stdout",
          "text": [
            "7\n",
            "21\n",
            "49\n",
            "70\n"
          ]
        }
      ]
    }
  ]
}