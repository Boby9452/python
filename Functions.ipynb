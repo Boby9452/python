{
  "nbformat": 4,
  "nbformat_minor": 0,
  "metadata": {
    "colab": {
      "provenance": []
    },
    "kernelspec": {
      "name": "python3",
      "display_name": "Python 3"
    },
    "language_info": {
      "name": "python"
    }
  },
  "cells": [
    {
      "cell_type": "code",
      "execution_count": null,
      "metadata": {
        "id": "Csg3nFNFooO5"
      },
      "outputs": [],
      "source": [
        "Create a function which display addition, subtraction, multiplication,division of 2 numbers."
      ]
    },
    {
      "cell_type": "code",
      "source": [
        "def compute(a,b):\n",
        "  p=a+b\n",
        "  q=a-b\n",
        "  r=a*b\n",
        "  s=a/b\n",
        "  print(p,q,r,s)\n",
        "\n",
        "compute(3,4)"
      ],
      "metadata": {
        "colab": {
          "base_uri": "https://localhost:8080/"
        },
        "id": "_aZFF-QmpDTT",
        "outputId": "7d17b7fe-7d3d-443a-bf7d-c71afef310b5"
      },
      "execution_count": null,
      "outputs": [
        {
          "output_type": "stream",
          "name": "stdout",
          "text": [
            "7 -1 12 0.75\n"
          ]
        }
      ]
    },
    {
      "cell_type": "markdown",
      "source": [],
      "metadata": {
        "id": "kRjpiP-3qrdI"
      }
    },
    {
      "cell_type": "code",
      "source": [],
      "metadata": {
        "id": "TcrTj9KBqn8x"
      },
      "execution_count": null,
      "outputs": []
    },
    {
      "cell_type": "markdown",
      "source": [],
      "metadata": {
        "id": "OCGGXCqhq5XA"
      }
    },
    {
      "cell_type": "code",
      "source": [
        "Create a function which takes name and age from the user and display age of the person."
      ],
      "metadata": {
        "id": "LOYOmQ77pDjV"
      },
      "execution_count": null,
      "outputs": []
    },
    {
      "cell_type": "code",
      "source": [
        "def display(name, age):\n",
        "   print(\"Hi\",name,\"Your age is\",age)\n",
        "   \n",
        "display(\"ivi\",56)"
      ],
      "metadata": {
        "colab": {
          "base_uri": "https://localhost:8080/"
        },
        "id": "4RBweJ9krET8",
        "outputId": "9f714be6-ffb6-443e-eaf5-1305f7f0f2fa"
      },
      "execution_count": null,
      "outputs": [
        {
          "output_type": "stream",
          "name": "stdout",
          "text": [
            "Hi ivi Your age is 56\n"
          ]
        }
      ]
    },
    {
      "cell_type": "markdown",
      "source": [
        "Create a function which takes name and salary as input form the user and display name and salary of the person.\n",
        "In case salary is not mentioned take as 15000."
      ],
      "metadata": {
        "id": "HW6bwzQtw24i"
      }
    },
    {
      "cell_type": "code",
      "source": [
        "def information(name,salary=15000):\n",
        "  print(name,\"Your salary is\",salary)\n",
        "information(\"Vijay\",799999)\n",
        "information(\"jai\")"
      ],
      "metadata": {
        "colab": {
          "base_uri": "https://localhost:8080/"
        },
        "id": "F1GZj4y3xOaY",
        "outputId": "ac08812d-b0bf-4daf-f244-401c508d20df"
      },
      "execution_count": null,
      "outputs": [
        {
          "output_type": "stream",
          "name": "stdout",
          "text": [
            "Vijay Your salary is 799999\n",
            "jai Your salary is 15000\n"
          ]
        }
      ]
    },
    {
      "cell_type": "markdown",
      "source": [
        "Create a function which adds all the elements in list of numbers. "
      ],
      "metadata": {
        "id": "_Sgn4LNIqbLN"
      }
    },
    {
      "cell_type": "code",
      "source": [
        "def add_numbers(numbers):\n",
        "  sum=0\n",
        "  for i in range (numbers):\n",
        "   sum=sum+i\n",
        "  print(sum)\n",
        "add_numbers(6)\n",
        "\n"
      ],
      "metadata": {
        "colab": {
          "base_uri": "https://localhost:8080/"
        },
        "id": "T8lhbMIdzvPB",
        "outputId": "88390cc2-9a26-40ea-fcca-0a5cfed8f2a4"
      },
      "execution_count": null,
      "outputs": [
        {
          "output_type": "stream",
          "name": "stdout",
          "text": [
            "15\n"
          ]
        }
      ]
    },
    {
      "cell_type": "markdown",
      "source": [
        "Create a function that displays largest numbers among three given numbers."
      ],
      "metadata": {
        "id": "wL5C0vHxotZ5"
      }
    },
    {
      "cell_type": "code",
      "source": [
        "def large_num(a,b,c):\n",
        "   if(a>b & a>c):\n",
        "     print(\"a is greater\")\n",
        "   elif(b>a &b>c):\n",
        "     print(\"b is greater\")\n",
        "   else:\n",
        "    print(\"c is greater\")  \n",
        "large_num(2,3,9)    \n",
        "\n",
        "\n",
        "\n"
      ],
      "metadata": {
        "colab": {
          "base_uri": "https://localhost:8080/"
        },
        "id": "TJokVkiK7odM",
        "outputId": "7cff334b-13f4-42ee-dd15-69830ba56381"
      },
      "execution_count": null,
      "outputs": [
        {
          "output_type": "stream",
          "name": "stdout",
          "text": [
            "c is greater\n"
          ]
        }
      ]
    },
    {
      "cell_type": "markdown",
      "source": [
        "create a function which compute area and circumference of a circle."
      ],
      "metadata": {
        "id": "Hvg-FJyfO3E9"
      }
    },
    {
      "cell_type": "code",
      "source": [
        "def compute(r):\n",
        "  cir=2*3.14*r\n",
        "  print(cir)\n",
        "  a=3.14*r*r\n",
        "  print(a)\n",
        "compute(6)  "
      ],
      "metadata": {
        "colab": {
          "base_uri": "https://localhost:8080/"
        },
        "id": "le5m_pJoPAiI",
        "outputId": "bc15c5e7-d292-403e-d647-3e06309a835d"
      },
      "execution_count": null,
      "outputs": [
        {
          "output_type": "stream",
          "name": "stdout",
          "text": [
            "37.68\n",
            "113.03999999999999\n"
          ]
        }
      ]
    },
    {
      "cell_type": "code",
      "source": [
        "Create a function to compute area and perimeter of a rectangle.\n"
      ],
      "metadata": {
        "id": "RwMwmCPonUE7"
      },
      "execution_count": null,
      "outputs": []
    },
    {
      "cell_type": "code",
      "source": [
        "def cal(l,b):\n",
        " area=l*b\n",
        " print(area)\n",
        " peri=2*(l+b)\n",
        " print(peri)\n",
        "cal(2,3)"
      ],
      "metadata": {
        "colab": {
          "base_uri": "https://localhost:8080/"
        },
        "id": "j9qTB-_Anfgz",
        "outputId": "c04490f7-d393-4707-b57b-d3f3b8f82ca2"
      },
      "execution_count": null,
      "outputs": [
        {
          "output_type": "stream",
          "name": "stdout",
          "text": [
            "6\n",
            "10\n"
          ]
        }
      ]
    },
    {
      "cell_type": "markdown",
      "source": [
        "Create a function which displays all the even numbers in the list of numbers in a new separate list."
      ],
      "metadata": {
        "id": "FZdJYqsio2Np"
      }
    },
    {
      "cell_type": "code",
      "source": [
        "def even(num):\n",
        "  l1=[]\n",
        "  for i in num:\n",
        "    if i%2==0:\n",
        "      l1.append(i)\n",
        "  print(l1)\n",
        "    "
      ],
      "metadata": {
        "id": "7ivOclhDpHNI"
      },
      "execution_count": null,
      "outputs": []
    },
    {
      "cell_type": "code",
      "source": [
        "even([4,6,8,7])"
      ],
      "metadata": {
        "colab": {
          "base_uri": "https://localhost:8080/"
        },
        "id": "ckv3QtkHrpvW",
        "outputId": "4b06d40b-0fe0-4679-ec58-972ee98175e2"
      },
      "execution_count": null,
      "outputs": [
        {
          "output_type": "stream",
          "name": "stdout",
          "text": [
            "[4, 6, 8]\n"
          ]
        }
      ]
    },
    {
      "cell_type": "code",
      "source": [
        "even([2,5,7,8,4,9,3])"
      ],
      "metadata": {
        "colab": {
          "base_uri": "https://localhost:8080/"
        },
        "id": "JFex7JG6qddI",
        "outputId": "84352960-d52c-4097-f44c-c6fcbb5a05ed"
      },
      "execution_count": null,
      "outputs": [
        {
          "output_type": "stream",
          "name": "stdout",
          "text": [
            "[2]\n",
            "[2, 8]\n",
            "[2, 8, 4]\n"
          ]
        }
      ]
    },
    {
      "cell_type": "markdown",
      "source": [
        "Create a function which counts the number of vowels and consonant in a given word."
      ],
      "metadata": {
        "id": "MIhBQ9ZtQrzt"
      }
    },
    {
      "cell_type": "code",
      "source": [
        "def count(word):\n",
        "  vowel_counter=0\n",
        "  consonant_count=0\n",
        "  for i in range(len(word)):\n",
        "    if word[i]in('a','A','e','E','i','I','o','O','u','U'):\n",
        "     vowel_counter=vowel_counter+1\n",
        "    else:\n",
        "      consonant_count=consonant_count+1\n",
        "  print(\"Number of vowels=\",vowel_counter)\n",
        "  print(\"Number of consonant=\",consonant_count)   \n"
      ],
      "metadata": {
        "id": "kHfDgPNYR0eC"
      },
      "execution_count": null,
      "outputs": []
    },
    {
      "cell_type": "code",
      "source": [
        "count(\"India\")"
      ],
      "metadata": {
        "colab": {
          "base_uri": "https://localhost:8080/"
        },
        "id": "vEiiJAXsTUbU",
        "outputId": "eb063a46-344e-4187-f663-8ceee4e782b7"
      },
      "execution_count": null,
      "outputs": [
        {
          "output_type": "stream",
          "name": "stdout",
          "text": [
            "Number of vowels= 3\n",
            "Number of consonant= 2\n"
          ]
        }
      ]
    },
    {
      "cell_type": "markdown",
      "source": [
        "Types of Arguments:-\n",
        "\n",
        "1.Default Arguments\n"
      ],
      "metadata": {
        "id": "UfrfnL4G1dlt"
      }
    },
    {
      "cell_type": "markdown",
      "source": [
        "Create a function which greets Good Morning to the customer by using his/her name.\n",
        "Incase the name is not provided,call the customer by the name \"user\""
      ],
      "metadata": {
        "id": "C0ddltpZ2CxX"
      }
    },
    {
      "cell_type": "code",
      "source": [
        "def wish(name=\"user\"): \n",
        "  print(\"good morning\",name)\n"
      ],
      "metadata": {
        "id": "Keoz5IOh2puu"
      },
      "execution_count": null,
      "outputs": []
    },
    {
      "cell_type": "code",
      "source": [
        "wish(\"vijay\")"
      ],
      "metadata": {
        "colab": {
          "base_uri": "https://localhost:8080/"
        },
        "id": "1bxk1VpN29lm",
        "outputId": "dfb8d6a6-3e08-4d87-8470-37d76ce76844"
      },
      "execution_count": null,
      "outputs": [
        {
          "output_type": "stream",
          "name": "stdout",
          "text": [
            "good morning vijay\n"
          ]
        }
      ]
    },
    {
      "cell_type": "code",
      "source": [
        "wish()"
      ],
      "metadata": {
        "colab": {
          "base_uri": "https://localhost:8080/"
        },
        "id": "prfc4c5j3nG9",
        "outputId": "04cc5a60-aa68-4578-f137-027753f45fb8"
      },
      "execution_count": null,
      "outputs": [
        {
          "output_type": "stream",
          "name": "stdout",
          "text": [
            "good morning user\n"
          ]
        }
      ]
    },
    {
      "cell_type": "markdown",
      "source": [
        "2.Arbitrary Arguments"
      ],
      "metadata": {
        "id": "24cdQHs_kGle"
      }
    },
    {
      "cell_type": "code",
      "source": [
        "def fun(*child):\n",
        "  print(\"Youngest child is\",child[2])\n",
        "  "
      ],
      "metadata": {
        "id": "PbKCgm3akL2n"
      },
      "execution_count": null,
      "outputs": []
    },
    {
      "cell_type": "code",
      "source": [
        "fun(\"radha\",\"Krishna\",\"Vijay\",\"Anshika\")"
      ],
      "metadata": {
        "colab": {
          "base_uri": "https://localhost:8080/"
        },
        "id": "stYdbj83kagE",
        "outputId": "ef98dc72-cd8a-40d7-800c-339c7f66b36d"
      },
      "execution_count": null,
      "outputs": [
        {
          "output_type": "stream",
          "name": "stdout",
          "text": [
            "Youngest child is Vijay\n"
          ]
        }
      ]
    },
    {
      "cell_type": "markdown",
      "source": [
        "3.Keyword Argument"
      ],
      "metadata": {
        "id": "mP1J94VInxPk"
      }
    },
    {
      "cell_type": "code",
      "source": [
        "def fun1(child3,child1,child2):\n",
        " print(\"Youngest child is\",child2)\n"
      ],
      "metadata": {
        "id": "HOK-yPhln0bB"
      },
      "execution_count": null,
      "outputs": []
    },
    {
      "cell_type": "code",
      "source": [
        "fun1(child3=\"Ravi\",child1=\"Ram\",child2=\"Ansh\")"
      ],
      "metadata": {
        "colab": {
          "base_uri": "https://localhost:8080/"
        },
        "id": "ZegPH7DDoKfD",
        "outputId": "54d6e483-40c9-4e8b-bbd3-b1613d3ca8e2"
      },
      "execution_count": null,
      "outputs": [
        {
          "output_type": "stream",
          "name": "stdout",
          "text": [
            "Youngest child is Ansh\n"
          ]
        }
      ]
    },
    {
      "cell_type": "markdown",
      "source": [
        "4.Arbitrary keyword Argument"
      ],
      "metadata": {
        "id": "a67f93jqlPtl"
      }
    },
    {
      "cell_type": "code",
      "source": [
        "def func(**names):\n",
        "   print(\"His middle name is\",names['mname'])\n",
        "func(fname=\"Ravi\",mname=\"kumar\",lname=\"Yadav\")\n"
      ],
      "metadata": {
        "colab": {
          "base_uri": "https://localhost:8080/"
        },
        "id": "OKmQoP7TlUno",
        "outputId": "4a77f6e8-9456-4b21-d347-e05def00fbfc"
      },
      "execution_count": null,
      "outputs": [
        {
          "output_type": "stream",
          "name": "stdout",
          "text": [
            "His middle name is kumar\n"
          ]
        }
      ]
    },
    {
      "cell_type": "code",
      "source": [
        "func(fname='Vijay',mname='None')"
      ],
      "metadata": {
        "colab": {
          "base_uri": "https://localhost:8080/"
        },
        "id": "Ilwhvk2WmxM5",
        "outputId": "7d4d9046-27c7-46c2-de97-48c21b3e4eb4"
      },
      "execution_count": null,
      "outputs": [
        {
          "output_type": "stream",
          "name": "stdout",
          "text": [
            "His middle name is None\n"
          ]
        }
      ]
    },
    {
      "cell_type": "markdown",
      "source": [
        "RECURSSION:-"
      ],
      "metadata": {
        "id": "AONyxFBtOfF0"
      }
    },
    {
      "cell_type": "code",
      "source": [
        "Factorial of a number by recurssion."
      ],
      "metadata": {
        "id": "E6VEQaL7OnGE"
      },
      "execution_count": null,
      "outputs": []
    },
    {
      "cell_type": "code",
      "source": [
        "def factorial(n):\n",
        "  if n<0:\n",
        "    print(\"Factorial of number is,\",0)\n",
        "  elif n==0 and n==1:\n",
        "    print(\"Factorial of a number is \",1)\n",
        "  else:\n",
        "    fact=1\n",
        "    while n>1:\n",
        "      fact=fact*n\n",
        "      n=n-1\n",
        "    print(\"Factorial of a number is\",fact)  "
      ],
      "metadata": {
        "id": "8Rqnu9MEOuGW"
      },
      "execution_count": null,
      "outputs": []
    },
    {
      "cell_type": "code",
      "source": [
        "factorial(5)"
      ],
      "metadata": {
        "colab": {
          "base_uri": "https://localhost:8080/"
        },
        "id": "5IsZM7m6Pcg0",
        "outputId": "02cd01bb-ecb8-4bd3-9dd4-fb867e518df6"
      },
      "execution_count": null,
      "outputs": [
        {
          "output_type": "stream",
          "name": "stdout",
          "text": [
            "Factorial of a number is 120\n"
          ]
        }
      ]
    },
    {
      "cell_type": "markdown",
      "source": [
        "Fibonacci Series"
      ],
      "metadata": {
        "id": "RT2EWevtOmwG"
      }
    },
    {
      "cell_type": "code",
      "source": [
        "n=int(input(\"enter the number\"))\n",
        "a=0\n",
        "b=1\n",
        "if n<0:\n",
        "  print(\"does not exist\")\n",
        "elif n==0:\n",
        "  print(0)\n",
        "elif n==1:\n",
        "  print(a)\n",
        "else:\n",
        "  for i in range(2,n):\n",
        "    c=a+b\n",
        "    a=b\n",
        "    b=c\n",
        "    print(b)      "
      ],
      "metadata": {
        "colab": {
          "base_uri": "https://localhost:8080/"
        },
        "id": "VSLYAAX1Olx-",
        "outputId": "7c99482f-4b7b-4eb9-f681-ab1528fd150b"
      },
      "execution_count": null,
      "outputs": [
        {
          "output_type": "stream",
          "name": "stdout",
          "text": [
            "enter the number4\n",
            "1\n",
            "2\n"
          ]
        }
      ]
    },
    {
      "cell_type": "code",
      "source": [
        "n=int(input(\"enter thr number\"))\n",
        "temp=n\n",
        "sum=0\n",
        "while(n>0):\n",
        "  dig=n%10\n",
        "  sum=(sum*10)+dig\n",
        "  n=n//10\n",
        "if(temp==n):\n",
        "  print(\"palindrome\")\n",
        "else:\n",
        "  print(\"not a palindrome\")  "
      ],
      "metadata": {
        "colab": {
          "base_uri": "https://localhost:8080/"
        },
        "id": "OIwzKQlLQh1B",
        "outputId": "9d914c5e-0827-4812-cd77-2a804b2b1280"
      },
      "execution_count": null,
      "outputs": [
        {
          "output_type": "stream",
          "name": "stdout",
          "text": [
            "enter thr number456\n",
            "not a palindrome\n"
          ]
        }
      ]
    }
  ]
}